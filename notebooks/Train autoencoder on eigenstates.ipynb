{
 "cells": [
  {
   "cell_type": "code",
   "execution_count": 1,
   "metadata": {},
   "outputs": [],
   "source": [
    "import qtensor\n",
    "import numpy as np\n",
    "import torch\n",
    "\n",
    "from circuit_11 import circuit_11, get_circ_and_peo"
   ]
  },
  {
   "cell_type": "code",
   "execution_count": 2,
   "metadata": {},
   "outputs": [],
   "source": [
    "%load_ext autoreload\n",
    "%autoreload 2"
   ]
  },
  {
   "cell_type": "code",
   "execution_count": 3,
   "metadata": {},
   "outputs": [],
   "source": [
    "N = 8\n",
    "FIXED = 4\n",
    "LAYERS = 3"
   ]
  },
  {
   "cell_type": "markdown",
   "metadata": {},
   "source": [
    "## Read eignestates"
   ]
  },
  {
   "cell_type": "code",
   "execution_count": 4,
   "metadata": {},
   "outputs": [],
   "source": [
    "from pathlib import Path\n",
    "def read_eigenstate(L=8, delta=0):\n",
    "    data_path = Path(f'../data/XXZ_L{L}/')\n",
    "    filename = f'XXZwavedeltadelta_{L}_{delta}.npy'\n",
    "    return np.load(data_path/filename)"
   ]
  },
  {
   "cell_type": "code",
   "execution_count": 5,
   "metadata": {},
   "outputs": [
    {
     "data": {
      "text/plain": [
       "(256, 1)"
      ]
     },
     "execution_count": 5,
     "metadata": {},
     "output_type": "execute_result"
    }
   ],
   "source": [
    "read_eigenstate().shape"
   ]
  },
  {
   "cell_type": "code",
   "execution_count": 38,
   "metadata": {},
   "outputs": [],
   "source": [
    "import qtree\n",
    "class InitSim(qtensor.QtreeSimulator):\n",
    "    def set_init_state(self, state):\n",
    "        self.init_state = state\n",
    "\n",
    "    def _create_buckets(self):\n",
    "        self.tn = qtensor.optimisation.QtreeTensorNet.from_qtree_gates(\n",
    "            self.all_gates, init_state=self.init_state, backend=self.backend,\n",
    "        )\n",
    "        self.tn.backend = self.backend\n",
    "\n",
    "    def _get_slice_dict(self, initial_state=0, target_state=0):\n",
    "        slice_dict = {}\n",
    "        slice_dict.update(qtree.utils.slice_from_bits(target_state, self.tn.bra_vars))\n",
    "        slice_dict.update(qtree.utils.slice_from_bits(target_state, self.tn.bra_vars))\n",
    "        slice_dict.update({var: slice(None) for var in self.tn.free_vars})\n",
    "        slice_dict.update({var: slice(None) for var in self.tn.ket_vars})\n",
    "        return slice_dict"
   ]
  },
  {
   "cell_type": "code",
   "execution_count": 39,
   "metadata": {},
   "outputs": [],
   "source": [
    "sim = InitSim(backend=qtensor.contraction_backends.get_backend('torch'))"
   ]
  },
  {
   "cell_type": "code",
   "execution_count": 116,
   "metadata": {
    "scrolled": true
   },
   "outputs": [
    {
     "data": {
      "text/plain": [
       "tensor([4.6364, 4.5428, 1.5382, 0.9449, 6.1108, 2.4651, 4.4485, 0.8780, 5.3159,\n",
       "        0.1547, 3.2637, 5.3338, 0.0099, 0.6378, 2.6495, 4.4971, 4.7221, 0.4612,\n",
       "        3.6766, 4.4082, 6.1660, 3.9588, 2.4845, 0.5251, 2.4232, 0.7866, 5.4962,\n",
       "        4.8549, 4.3219, 1.9596, 5.8828, 3.5695, 4.3269, 4.9607, 1.8645, 1.3474,\n",
       "        2.2648, 1.4038, 0.4491, 2.9762, 3.2542, 1.5775, 0.7192, 2.2991, 0.6314,\n",
       "        2.8734, 5.8013, 3.2864, 0.6413, 1.9607, 5.2508, 2.8097, 2.9088, 3.7419,\n",
       "        1.6706, 4.3114, 4.4432, 4.6854, 5.8985, 0.9408, 0.9718, 4.4480, 6.0973,\n",
       "        1.1357, 5.2387, 4.8226, 6.0772, 2.4298, 4.4570, 1.3613, 3.5242, 4.9890,\n",
       "        5.8758, 4.9264, 2.0256, 4.8341, 5.6734, 0.1671, 3.1953, 4.5778, 0.2276,\n",
       "        5.4632, 0.0801, 2.9252], grad_fn=<MulBackward0>)"
      ]
     },
     "execution_count": 116,
     "metadata": {},
     "output_type": "execute_result"
    }
   ],
   "source": [
    "parameters = 2*np.pi*torch.rand(LAYERS*(4*N - 4), requires_grad=True)\n",
    "parameters.retain_grad()\n",
    "parameters"
   ]
  },
  {
   "cell_type": "code",
   "execution_count": 127,
   "metadata": {},
   "outputs": [],
   "source": [
    "train_size = 2\n",
    "train_set = [\n",
    "    read_eigenstate(L=N, delta=i) for i in range(train_size)\n",
    "]"
   ]
  },
  {
   "cell_type": "code",
   "execution_count": 128,
   "metadata": {},
   "outputs": [],
   "source": [
    "def amps2loss(amps):\n",
    "    return -torch.abs(amps*torch.conj(amps)).sum()"
   ]
  },
  {
   "cell_type": "code",
   "execution_count": 203,
   "metadata": {},
   "outputs": [],
   "source": [
    "steps = 150\n",
    "lr = 0.05\n",
    "stop_epsilon = 1e-12"
   ]
  },
  {
   "cell_type": "code",
   "execution_count": 204,
   "metadata": {
    "scrolled": true
   },
   "outputs": [
    {
     "name": "stdout",
     "output_type": "stream",
     "text": [
      "loss= tensor(-0.9988) sum_grad= 0.0018221143\n",
      "loss= tensor(-0.9988) sum_grad= 0.0008758935\n",
      "loss= tensor(-0.9988) sum_grad= 0.0008562565\n",
      "loss= tensor(-0.9988) sum_grad= 0.0008452759\n",
      "loss= tensor(-0.9988) sum_grad= 0.00084216776\n",
      "loss= tensor(-0.9988) sum_grad= 0.00082307693\n",
      "loss= tensor(-0.9988) sum_grad= 0.0008144086\n",
      "loss= tensor(-0.9988) sum_grad= 0.0007820516\n",
      "loss= tensor(-0.9988) sum_grad= 0.0007731083\n",
      "loss= tensor(-0.9988) sum_grad= 0.0007783182\n",
      "loss= tensor(-0.9988) sum_grad= 0.0007475766\n",
      "loss= tensor(-0.9988) sum_grad= 0.0007473343\n",
      "loss= tensor(-0.9988) sum_grad= 0.00073357124\n",
      "loss= tensor(-0.9988) sum_grad= 0.0007156365\n",
      "loss= tensor(-0.9988) sum_grad= 0.0007078784\n",
      "loss= tensor(-0.9988) sum_grad= 0.0007004903\n",
      "loss= tensor(-0.9988) sum_grad= 0.0006859797\n",
      "loss= tensor(-0.9988) sum_grad= 0.00067163754\n",
      "loss= tensor(-0.9988) sum_grad= 0.00067789445\n",
      "loss= tensor(-0.9988) sum_grad= 0.00064364466\n",
      "loss= tensor(-0.9988) sum_grad= 0.00063947355\n",
      "loss= tensor(-0.9988) sum_grad= 0.0006319865\n",
      "Reached convergence after 21 steps!\n"
     ]
    }
   ],
   "source": [
    "peo, circ = get_circ_and_peo(parameters, N=N, layers=LAYERS, fixed=FIXED)\n",
    "loss_prev = np.inf\n",
    "for i in range(steps):\n",
    "    \n",
    "    loss = torch.tensor(0.)\n",
    "    for train_x in train_set:\n",
    "        sim.set_init_state(train_x)\n",
    "        amps = sim.simulate_batch(circ, peo=peo, batch_vars=range(FIXED, N))\n",
    "        loss += amps2loss(amps)\n",
    "        \n",
    "    loss /= len(train_set)\n",
    "    loss.backward(retain_graph=True)\n",
    "    with torch.no_grad():\n",
    "        parameters -= lr*parameters.grad\n",
    "    print('loss=', loss.data, 'sum_grad=', np.abs(parameters.grad.detach().numpy().sum()))\n",
    "    \n",
    "    if abs((loss_prev - loss.data.numpy())/loss.data) < stop_epsilon:\n",
    "        print(f'Reached convergence after {i} steps!')\n",
    "        break\n",
    "    #print(amps.data, np.abs(np.square(amps.detach().numpy())))\n",
    "    loss_prev = loss.data\n",
    "    parameters.grad.zero_()\n",
    "    "
   ]
  },
  {
   "cell_type": "markdown",
   "metadata": {},
   "source": [
    "## Test results"
   ]
  },
  {
   "cell_type": "code",
   "execution_count": 205,
   "metadata": {},
   "outputs": [],
   "source": [
    "import matplotlib.pyplot as plt\n",
    "test_sim = InitSim()"
   ]
  },
  {
   "cell_type": "code",
   "execution_count": 206,
   "metadata": {},
   "outputs": [],
   "source": [
    "def get_compression(delta):\n",
    "    \"\"\"\n",
    "    Returns:\n",
    "        original_state, compressed_state\n",
    "    \"\"\"\n",
    "    state = read_eigenstate(delta=delta)\n",
    "    test_sim.set_init_state(state)\n",
    "    peo, circ = get_circ_and_peo(parameters.detach().numpy(), N=N,\n",
    "                                 layers=LAYERS, fixed=FIXED, backend='numpy')\n",
    "    amps_np = test_sim.simulate_batch(circ, peo=peo, batch_vars=N)\n",
    "    return state.flatten(), amps_np\n",
    "    "
   ]
  },
  {
   "cell_type": "code",
   "execution_count": 207,
   "metadata": {},
   "outputs": [],
   "source": [
    "compression = get_compression(delta=3)"
   ]
  },
  {
   "cell_type": "code",
   "execution_count": 208,
   "metadata": {},
   "outputs": [],
   "source": [
    "def plot_state(state):\n",
    "    probs = np.abs(state*state).flatten()\n",
    "    plt.bar(range(len(probs)), probs)"
   ]
  },
  {
   "cell_type": "code",
   "execution_count": 209,
   "metadata": {},
   "outputs": [],
   "source": [
    "def compare_compression(orig_state, compressed_state):\n",
    "    fig, axs = plt.subplots(1, 2, figsize=(12, 4))\n",
    "    plt.sca(axs[0])\n",
    "    plot_state(orig_state)\n",
    "    plt.sca(axs[1])\n",
    "    plot_state(compressed_state)\n",
    "    "
   ]
  },
  {
   "cell_type": "code",
   "execution_count": 100,
   "metadata": {},
   "outputs": [
    {
     "data": {
      "image/png": "[encoded data removed]",
      "text/plain": [
       "<Figure size 864x288 with 2 Axes>"
      ]
     },
     "metadata": {
      "needs_background": "light"
     },
     "output_type": "display_data"
    }
   ],
   "source": [
    "compare_compression(*compression)"
   ]
  },
  {
   "cell_type": "code",
   "execution_count": null,
   "metadata": {},
   "outputs": [],
   "source": []
  },
  {
   "cell_type": "markdown",
   "metadata": {},
   "source": [
    "### Look at all test"
   ]
  },
  {
   "cell_type": "code",
   "execution_count": 210,
   "metadata": {},
   "outputs": [],
   "source": [
    "compressions = [get_compression(delta=i) for i in range(len(train_set))]    "
   ]
  },
  {
   "cell_type": "code",
   "execution_count": 211,
   "metadata": {},
   "outputs": [
    {
     "data": {
      "text/plain": [
       "[None, None]"
      ]
     },
     "execution_count": 211,
     "metadata": {},
     "output_type": "execute_result"
    },
    {
     "data": {
      "image/png": "[encoded data removed]",
      "text/plain": [
       "<Figure size 864x288 with 2 Axes>"
      ]
     },
     "metadata": {
      "needs_background": "light"
     },
     "output_type": "display_data"
    },
    {
     "data": {
      "image/png": "[encoded data removed]",
      "text/plain": [
       "<Figure size 864x288 with 2 Axes>"
      ]
     },
     "metadata": {
      "needs_background": "light"
     },
     "output_type": "display_data"
    }
   ],
   "source": [
    "[compare_compression(*i) for i in compressions]"
   ]
  },
  {
   "cell_type": "code",
   "execution_count": null,
   "metadata": {},
   "outputs": [],
   "source": [
    "compressed"
   ]
  },
  {
   "cell_type": "code",
   "execution_count": null,
   "metadata": {},
   "outputs": [],
   "source": []
  },
  {
   "cell_type": "code",
   "execution_count": null,
   "metadata": {},
   "outputs": [],
   "source": []
  }
 ],
 "metadata": {
  "kernelspec": {
   "display_name": "Python 3",
   "language": "python",
   "name": "python3"
  },
  "language_info": {
   "codemirror_mode": {
    "name": "ipython",
    "version": 3
   },
   "file_extension": ".py",
   "mimetype": "text/x-python",
   "name": "python",
   "nbconvert_exporter": "python",
   "pygments_lexer": "ipython3",
   "version": "3.8.2"
  },
  "toc": {
   "base_numbering": 1,
   "nav_menu": {},
   "number_sections": true,
   "sideBar": true,
   "skip_h1_title": false,
   "title_cell": "Table of Contents",
   "title_sidebar": "Contents",
   "toc_cell": false,
   "toc_position": {},
   "toc_section_display": true,
   "toc_window_display": false
  }
 },
 "nbformat": 4,
 "nbformat_minor": 4
}
