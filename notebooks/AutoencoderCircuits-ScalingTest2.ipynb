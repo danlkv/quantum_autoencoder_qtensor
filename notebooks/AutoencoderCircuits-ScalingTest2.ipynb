{
 "cells": [
  {
   "cell_type": "code",
   "execution_count": 11,
   "metadata": {},
   "outputs": [],
   "source": [
    "###This code generates autoencoders for quantum phase transtions. Circuits were taken from arXiv:1905.10876 \n",
    "###Code written by Douglas M."
   ]
  },
  {
   "cell_type": "code",
   "execution_count": 2,
   "metadata": {},
   "outputs": [
    {
     "data": {
      "text/plain": [
       "{'qiskit-terra': '0.16.1',\n",
       " 'qiskit-aer': '0.7.2',\n",
       " 'qiskit-ignis': '0.5.1',\n",
       " 'qiskit-ibmq-provider': '0.11.1',\n",
       " 'qiskit-aqua': '0.8.1',\n",
       " 'qiskit': '0.23.2'}"
      ]
     },
     "execution_count": 2,
     "metadata": {},
     "output_type": "execute_result"
    }
   ],
   "source": [
    "import qiskit\n",
    "qiskit.__qiskit_version__"
   ]
  },
  {
   "cell_type": "code",
   "execution_count": 3,
   "metadata": {},
   "outputs": [],
   "source": [
    "import numpy as np\n",
    "from qiskit import circuit\n",
    "from qiskit.quantum_info import Operator\n",
    "from qiskit.circuit.library import CRXGate\n",
    "\n",
    "pi = np.pi\n",
    "%matplotlib inline"
   ]
  },
  {
   "cell_type": "code",
   "execution_count": 4,
   "metadata": {},
   "outputs": [],
   "source": [
    "import qtensor as qtn"
   ]
  },
  {
   "cell_type": "code",
   "execution_count": 5,
   "metadata": {},
   "outputs": [],
   "source": [
    "%load_ext autoreload\n",
    "%autoreload 2"
   ]
  },
  {
   "cell_type": "code",
   "execution_count": 6,
   "metadata": {},
   "outputs": [],
   "source": [
    "L=4 ##Lattice size. Must be even\n",
    "layers=2"
   ]
  },
  {
   "cell_type": "code",
   "execution_count": 37,
   "metadata": {
    "scrolled": true
   },
   "outputs": [
    {
     "data": {
      "text/plain": [
       "[YPhase[alpha=2.17](0),\n",
       " ZPhase[alpha=0.12](0),\n",
       " YPhase[alpha=6.23](1),\n",
       " ZPhase[alpha=5.00](1),\n",
       " YPhase[alpha=0.34](2),\n",
       " ZPhase[alpha=4.39](2),\n",
       " YPhase[alpha=4.35](3),\n",
       " ZPhase[alpha=4.66](3),\n",
       " YPhase[alpha=5.95](4),\n",
       " ZPhase[alpha=5.43](4),\n",
       " YPhase[alpha=2.67](5),\n",
       " ZPhase[alpha=2.13](5),\n",
       " cX(1,0),\n",
       " cX(3,2),\n",
       " cX(5,4),\n",
       " YPhase[alpha=0.35](1),\n",
       " ZPhase[alpha=1.69](1),\n",
       " YPhase[alpha=2.40](2),\n",
       " ZPhase[alpha=0.32](2),\n",
       " YPhase[alpha=3.35](3),\n",
       " ZPhase[alpha=2.86](3),\n",
       " YPhase[alpha=0.41](4),\n",
       " ZPhase[alpha=3.79](4),\n",
       " cX(2,1),\n",
       " cX(4,3),\n",
       " YPhase[alpha=0.34](0),\n",
       " ZPhase[alpha=3.72](0),\n",
       " YPhase[alpha=3.34](1),\n",
       " ZPhase[alpha=1.49](1),\n",
       " YPhase[alpha=4.88](2),\n",
       " ZPhase[alpha=0.87](2),\n",
       " YPhase[alpha=5.73](3),\n",
       " ZPhase[alpha=3.95](3),\n",
       " YPhase[alpha=3.46](4),\n",
       " ZPhase[alpha=0.72](4),\n",
       " YPhase[alpha=3.30](5),\n",
       " ZPhase[alpha=2.09](5),\n",
       " cX(1,0),\n",
       " cX(3,2),\n",
       " cX(5,4),\n",
       " YPhase[alpha=5.21](1),\n",
       " ZPhase[alpha=2.95](1),\n",
       " YPhase[alpha=0.83](2),\n",
       " ZPhase[alpha=0.38](2),\n",
       " YPhase[alpha=2.93](3),\n",
       " ZPhase[alpha=4.50](3),\n",
       " YPhase[alpha=4.44](4),\n",
       " ZPhase[alpha=2.94](4),\n",
       " cX(2,1),\n",
       " cX(4,3)]"
      ]
     },
     "execution_count": 37,
     "metadata": {},
     "output_type": "execute_result"
    }
   ],
   "source": [
    "def circuit_11(layers, composer, parameters=None):\n",
    "    ops = composer.operators\n",
    "    L = composer.n_qubits\n",
    "    if L%2:\n",
    "        raise Exception(\"Number of qubits should be even\")\n",
    "    q = composer.qubits\n",
    "    if parameters is None:\n",
    "        a=2*pi*np.random.random(layers*(4*L-4))\n",
    "    else:\n",
    "        a = parameters\n",
    "    for layer in range(layers):\n",
    "        for i in range(L):\n",
    "            ##adds first layer of rotations\n",
    "            composer.apply_gate(ops.YPhase, q[i], alpha=a[layer*(4*L-4)+i])\n",
    "            composer.apply_gate(ops.ZPhase, q[i], alpha=a[layer*(4*L-4)+i+L])\n",
    "        #adds first layer of CNOTs\n",
    "        for j in range(0, L, 2):\n",
    "            composer.apply_gate(ops.cX, q[j+1], q[j])\n",
    "        ##add second layer of rotations\n",
    "        for k in range(0, L-2):\n",
    "            composer.apply_gate(ops.YPhase, q[k+1], alpha=a[layer*(4*L-4)+2*L+k])\n",
    "            composer.apply_gate(ops.ZPhase, q[k+1], alpha=a[layer*(4*L-4)+2*L+L-2+k])\n",
    "        ##add second layer of CNOTs\n",
    "        for l in range(1,L-1,2):\n",
    "            composer.apply_gate(ops.cX, q[l+1], q[l])\n",
    "\n",
    "    return composer.circuit\n",
    "\n",
    "composer = qtn.QtreeBuilder(n_qubits=6)\n",
    "circ = circuit_11(layers=layers, composer=composer)\n",
    "circ"
   ]
  },
  {
   "cell_type": "code",
   "execution_count": 22,
   "metadata": {},
   "outputs": [],
   "source": [
    "from cartesian_explorer import Explorer\n",
    "ex = Explorer()"
   ]
  },
  {
   "cell_type": "code",
   "execution_count": 39,
   "metadata": {},
   "outputs": [],
   "source": [
    "@ex.provider\n",
    "def circuit(N, layers, circuit_type='11', builder='qtree'):\n",
    "    builder = {'qtree':qtn.QtreeBuilder, 'torch':qtn.TorchBuilder}[builder](n_qubits=N)\n",
    "    if circuit_type=='11':\n",
    "        return tuple(circuit_11(layers, composer=builder))"
   ]
  },
  {
   "cell_type": "code",
   "execution_count": 88,
   "metadata": {},
   "outputs": [],
   "source": [
    "@ex.provider\n",
    "def latent_qubits(N):\n",
    "    return N//5\n",
    "\n",
    "@ex.provider\n",
    "def sim_width(circuit, latent_qubits, optimizer='rgreedy'):\n",
    "    batch_vars = latent_qubits\n",
    "    tn = qtn.optimisation.TensorNet.QtreeTensorNet.from_qtree_gates(circuit)\n",
    "    tn.set_free_qubits(range(batch_vars))\n",
    "    \n",
    "    opt = qtn.toolbox.get_ordering_algo(optimizer)\n",
    "    opt.optimize(tn)\n",
    "    opt.optimize\n",
    "    return opt.treewidth"
   ]
  },
  {
   "cell_type": "code",
   "execution_count": 89,
   "metadata": {
    "scrolled": false
   },
   "outputs": [
    {
     "data": {
      "application/vnd.jupyter.widget-view+json": {
       "model_id": "1b9a42ebc9424d07b33b73d0dcfc1bf5",
       "version_major": 2,
       "version_minor": 0
      },
      "text/plain": [
       "HBox(children=(FloatProgress(value=0.0, max=54.0), HTML(value='')))"
      ]
     },
     "metadata": {},
     "output_type": "display_data"
    },
    {
     "name": "stdout",
     "output_type": "stream",
     "text": [
      "\n"
     ]
    },
    {
     "data": {
      "text/plain": [
       "Text(0.5, 1.0, 'Simulation complexity')"
      ]
     },
     "execution_count": 89,
     "metadata": {},
     "output_type": "execute_result"
    },
    {
     "data": {
      "image/png": "[encoded data removed]",
      "text/plain": [
       "<Figure size 800x300 with 2 Axes>"
      ]
     },
     "metadata": {
      "needs_background": "light"
     },
     "output_type": "display_data"
    }
   ],
   "source": [
    "fig = ex.plot_variables(('latent_qubits','sim_width'),\n",
    "                        layers=[2,3,4], N=range(6, 40, 4), \n",
    "                        optimizer=['greedy']\n",
    "                       )\n",
    "fig.axes[0].set_title('Latent qubits count')\n",
    "fig.axes[1].set_title('Simulation complexity')"
   ]
  },
  {
   "cell_type": "code",
   "execution_count": 81,
   "metadata": {},
   "outputs": [
    {
     "data": {
      "application/vnd.jupyter.widget-view+json": {
       "model_id": "961bf59c30164648a6161a736e83d396",
       "version_major": 2,
       "version_minor": 0
      },
      "text/plain": [
       "HBox(children=(FloatProgress(value=0.0, max=27.0), HTML(value='')))"
      ]
     },
     "metadata": {},
     "output_type": "display_data"
    },
    {
     "name": "stdout",
     "output_type": "stream",
     "text": [
      "\n"
     ]
    },
    {
     "data": {
      "text/plain": [
       "Text(0.5, 1.0, 'Simulation width of a single amplitude')"
      ]
     },
     "execution_count": 81,
     "metadata": {},
     "output_type": "execute_result"
    },
    {
     "data": {
      "image/png": "[encoded data removed]",
      "text/plain": [
       "<Figure size 600x400 with 1 Axes>"
      ]
     },
     "metadata": {
      "needs_background": "light"
     },
     "output_type": "display_data"
    }
   ],
   "source": [
    "fig = ex.plot_variables('sim_width', layers=[2,3,4], N=range(6, 40, 4), latent_qubits=[0])\n",
    "fig.axes[0].set_title('Simulation width of a single amplitude')"
   ]
  },
  {
   "cell_type": "code",
   "execution_count": 48,
   "metadata": {},
   "outputs": [
    {
     "data": {
      "text/plain": [
       "1.073741824"
      ]
     },
     "execution_count": 48,
     "metadata": {},
     "output_type": "execute_result"
    }
   ],
   "source": [
    "width = 26\n",
    "bytes_in_number = 16\n",
    "2**width * bytes_in_number/1e9"
   ]
  },
  {
   "cell_type": "code",
   "execution_count": 14,
   "metadata": {},
   "outputs": [
    {
     "name": "stdout",
     "output_type": "stream",
     "text": [
      "8\n",
      "9\n",
      "20\n",
      "21\n"
     ]
    },
    {
     "data": {
      "text/html": [
       "<pre style=\"overflow: auto; white-space: pre;\">0: ───Y^-0.065───Z^-0.653───X───Y^-0.984───Z^(-6/11)────────────────────────────X─────────────────────────────\n",
       "                            │                                                   │\n",
       "1: ───Y^-0.017───Z^0.876────@───Y^0.226────Z^-0.567────X───Y^-0.19───Z^-0.824───@───Y^0.752────Z^0.95─────X───\n",
       "                                                       │                                                  │\n",
       "2: ───Y^0.352────Z^(-7/8)───X───Y^-0.902───Z^0.629─────@───Y^0.338───Z^0.798────X───Y^-0.814───Z^-0.488───@───\n",
       "                            │                                                   │\n",
       "3: ───Y^0.468────Z^-0.086───@───Y^-0.473───Z^-0.623─────────────────────────────@─────────────────────────────</pre>"
      ],
      "text/plain": [
       "0: ───Y^-0.065───Z^-0.653───X───Y^-0.984───Z^(-6/11)────────────────────────────X─────────────────────────────\n",
       "                            │                                                   │\n",
       "1: ───Y^-0.017───Z^0.876────@───Y^0.226────Z^-0.567────X───Y^-0.19───Z^-0.824───@───Y^0.752────Z^0.95─────X───\n",
       "                                                       │                                                  │\n",
       "2: ───Y^0.352────Z^(-7/8)───X───Y^-0.902───Z^0.629─────@───Y^0.338───Z^0.798────X───Y^-0.814───Z^-0.488───@───\n",
       "                            │                                                   │\n",
       "3: ───Y^0.468────Z^-0.086───@───Y^-0.473───Z^-0.623─────────────────────────────@─────────────────────────────"
      ]
     },
     "execution_count": 14,
     "metadata": {},
     "output_type": "execute_result"
    }
   ],
   "source": [
    "composer = qtn.CirqBuilder(n_qubits=L)\n",
    "circ = circuit_11(L, layers, composer)\n",
    "circ"
   ]
  },
  {
   "cell_type": "code",
   "execution_count": 15,
   "metadata": {},
   "outputs": [
    {
     "name": "stdout",
     "output_type": "stream",
     "text": [
      "8\n",
      "9\n",
      "20\n",
      "21\n"
     ]
    },
    {
     "data": {
      "text/html": [
       "<pre style=\"word-wrap: normal;white-space: pre;background: #fff0;line-height: 1.1;font-family: &quot;Courier New&quot;,Courier,monospace\">      ┌────────────┐┌────────────┐┌───┐ ┌────────────┐┌────────────┐     »\n",
       "q1_0: ┤ RY(4.9383) ├┤ RZ(3.9932) ├┤ X ├─┤ RY(0.4938) ├┤ RZ(4.4946) ├─────»\n",
       "      ├────────────┤├────────────┤└─┬─┘ ├────────────┤├────────────┤┌───┐»\n",
       "q1_1: ┤ RY(2.4177) ├┤ RZ(6.0502) ├──■───┤ RY(4.3447) ├┤ RZ(1.0627) ├┤ X ├»\n",
       "      └┬─────────┬─┘├────────────┤┌───┐ ├────────────┤├───────────┬┘└─┬─┘»\n",
       "q1_2: ─┤ RY(4.8) ├──┤ RZ(5.5554) ├┤ X ├─┤ RY(6.0161) ├┤ RZ(4.632) ├───■──»\n",
       "      ┌┴─────────┴─┐├────────────┤└─┬─┘┌┴────────────┤├───────────┴┐     »\n",
       "q1_3: ┤ RY(4.8265) ├┤ RZ(4.8998) ├──■──┤ RY(0.48269) ├┤ RZ(2.8177) ├─────»\n",
       "      └────────────┘└────────────┘     └─────────────┘└────────────┘     »\n",
       "«                                   ┌───┐                                 \n",
       "«q1_0: ─────────────────────────────┤ X ├─────────────────────────────────\n",
       "«      ┌────────────┐┌─────────────┐└─┬─┘┌────────────┐┌────────────┐┌───┐\n",
       "«q1_1: ┤ RY(3.8001) ├┤ RZ(0.70145) ├──■──┤ RY(5.7651) ├┤ RZ(2.1107) ├┤ X ├\n",
       "«      ├────────────┤└┬────────────┤┌───┐├────────────┤├────────────┤└─┬─┘\n",
       "«q1_2: ┤ RY(1.1727) ├─┤ RZ(5.8497) ├┤ X ├┤ RY(6.0986) ├┤ RZ(6.1857) ├──■──\n",
       "«      └────────────┘ └────────────┘└─┬─┘└────────────┘└────────────┘     \n",
       "«q1_3: ───────────────────────────────■───────────────────────────────────\n",
       "«                                                                         </pre>"
      ],
      "text/plain": [
       "      ┌────────────┐┌────────────┐┌───┐ ┌────────────┐┌────────────┐     »\n",
       "q1_0: ┤ RY(4.9383) ├┤ RZ(3.9932) ├┤ X ├─┤ RY(0.4938) ├┤ RZ(4.4946) ├─────»\n",
       "      ├────────────┤├────────────┤└─┬─┘ ├────────────┤├────────────┤┌───┐»\n",
       "q1_1: ┤ RY(2.4177) ├┤ RZ(6.0502) ├──■───┤ RY(4.3447) ├┤ RZ(1.0627) ├┤ X ├»\n",
       "      └┬─────────┬─┘├────────────┤┌───┐ ├────────────┤├───────────┬┘└─┬─┘»\n",
       "q1_2: ─┤ RY(4.8) ├──┤ RZ(5.5554) ├┤ X ├─┤ RY(6.0161) ├┤ RZ(4.632) ├───■──»\n",
       "      ┌┴─────────┴─┐├────────────┤└─┬─┘┌┴────────────┤├───────────┴┐     »\n",
       "q1_3: ┤ RY(4.8265) ├┤ RZ(4.8998) ├──■──┤ RY(0.48269) ├┤ RZ(2.8177) ├─────»\n",
       "      └────────────┘└────────────┘     └─────────────┘└────────────┘     »\n",
       "«                                   ┌───┐                                 \n",
       "«q1_0: ─────────────────────────────┤ X ├─────────────────────────────────\n",
       "«      ┌────────────┐┌─────────────┐└─┬─┘┌────────────┐┌────────────┐┌───┐\n",
       "«q1_1: ┤ RY(3.8001) ├┤ RZ(0.70145) ├──■──┤ RY(5.7651) ├┤ RZ(2.1107) ├┤ X ├\n",
       "«      ├────────────┤└┬────────────┤┌───┐├────────────┤├────────────┤└─┬─┘\n",
       "«q1_2: ┤ RY(1.1727) ├─┤ RZ(5.8497) ├┤ X ├┤ RY(6.0986) ├┤ RZ(6.1857) ├──■──\n",
       "«      └────────────┘ └────────────┘└─┬─┘└────────────┘└────────────┘     \n",
       "«q1_3: ───────────────────────────────■───────────────────────────────────\n",
       "«                                                                         "
      ]
     },
     "execution_count": 15,
     "metadata": {},
     "output_type": "execute_result"
    }
   ],
   "source": [
    "##This block generates circuit 11\n",
    "\n",
    "# -- DL\n",
    "def get_circuit_11(L, layers):\n",
    "    a=2*pi*np.random.random(layers*(4*L-4))\n",
    "    q=qiskit.QuantumRegister(L)\n",
    "    circ=qiskit.QuantumCircuit(q)\n",
    "    for layer in range(layers):\n",
    "        for i in range(len(q)):\n",
    "            ##adds first layer of rotations\n",
    "            circ.ry(a[layer*(4*L-4)+i],q[i])\n",
    "            circ.rz(a[layer*(4*L-4)+i+L],q[i])\n",
    "        #adds first layer of CNOTs\n",
    "        for j in range(0,len(q),2):\n",
    "            circ.cx(q[j+1],q[j])\n",
    "        ##add second layer of rotations\n",
    "        for k in range(0,len(q)-2):\n",
    "            circ.ry(a[layer*(4*L-4)+2*L+k],q[k+1])\n",
    "            circ.rz(a[layer*(4*L-4)+2*L+L-2+k],q[k+1])\n",
    "            print(layer*(4*L-4)+2*L+k)\n",
    "        ##add second layer of CNOTs\n",
    "        for l in range(1,len(q)-1,2):\n",
    "            circ.cx(q[l+1],q[l])\n",
    "\n",
    "    return circ\n",
    "\n",
    "circ = get_circuit_11(L, layers)\n",
    "circ.draw()"
   ]
  },
  {
   "cell_type": "code",
   "execution_count": 13,
   "metadata": {},
   "outputs": [
    {
     "data": {
      "text/html": [
       "<pre style=\"word-wrap: normal;white-space: pre;background: #fff0;line-height: 1.1;font-family: &quot;Courier New&quot;,Courier,monospace\">      ┌────────────┐┌─────────────┐   ┌──────────────┐ ┌────────────┐   »\n",
       "q3_0: ┤ RY(1.1448) ├┤ RZ(0.74483) ├─■─┤ RY(0.014114) ├─┤ RZ(5.8723) ├───»\n",
       "      ├────────────┤└┬───────────┬┘ │ └┬────────────┬┘ ├───────────┬┘   »\n",
       "q3_1: ┤ RY(2.8722) ├─┤ RZ(1.819) ├──■──┤ RY(4.3083) ├──┤ RZ(2.744) ├──■─»\n",
       "      ├────────────┤ ├───────────┴┐    ├────────────┤ ┌┴───────────┴┐ │ »\n",
       "q3_2: ┤ RY(4.7526) ├─┤ RZ(4.6298) ├─■──┤ RY(2.6225) ├─┤ RZ(0.56409) ├─■─»\n",
       "      ├────────────┤ ├────────────┤ │  ├────────────┤ └┬────────────┤   »\n",
       "q3_3: ┤ RY(1.7509) ├─┤ RZ(4.5909) ├─■──┤ RY(2.7589) ├──┤ RZ(5.5758) ├───»\n",
       "      └────────────┘ └────────────┘    └────────────┘  └────────────┘   »\n",
       "«                                                                    \n",
       "«q3_0: ─────────────────────────────■────────────────────────────────\n",
       "«      ┌────────────┐┌────────────┐ │ ┌────────────┐┌────────────┐   \n",
       "«q3_1: ┤ RY(2.5382) ├┤ RZ(2.9406) ├─■─┤ RY(1.6289) ├┤ RZ(4.6122) ├─■─\n",
       "«      ├────────────┤├────────────┤   ├───────────┬┘├────────────┤ │ \n",
       "«q3_2: ┤ RY(4.5789) ├┤ RZ(2.5972) ├─■─┤ RY(3.405) ├─┤ RZ(1.9172) ├─■─\n",
       "«      └────────────┘└────────────┘ │ └───────────┘ └────────────┘   \n",
       "«q3_3: ─────────────────────────────■────────────────────────────────\n",
       "«                                                                    </pre>"
      ],
      "text/plain": [
       "      ┌────────────┐┌─────────────┐   ┌──────────────┐ ┌────────────┐   »\n",
       "q3_0: ┤ RY(1.1448) ├┤ RZ(0.74483) ├─■─┤ RY(0.014114) ├─┤ RZ(5.8723) ├───»\n",
       "      ├────────────┤└┬───────────┬┘ │ └┬────────────┬┘ ├───────────┬┘   »\n",
       "q3_1: ┤ RY(2.8722) ├─┤ RZ(1.819) ├──■──┤ RY(4.3083) ├──┤ RZ(2.744) ├──■─»\n",
       "      ├────────────┤ ├───────────┴┐    ├────────────┤ ┌┴───────────┴┐ │ »\n",
       "q3_2: ┤ RY(4.7526) ├─┤ RZ(4.6298) ├─■──┤ RY(2.6225) ├─┤ RZ(0.56409) ├─■─»\n",
       "      ├────────────┤ ├────────────┤ │  ├────────────┤ └┬────────────┤   »\n",
       "q3_3: ┤ RY(1.7509) ├─┤ RZ(4.5909) ├─■──┤ RY(2.7589) ├──┤ RZ(5.5758) ├───»\n",
       "      └────────────┘ └────────────┘    └────────────┘  └────────────┘   »\n",
       "«                                                                    \n",
       "«q3_0: ─────────────────────────────■────────────────────────────────\n",
       "«      ┌────────────┐┌────────────┐ │ ┌────────────┐┌────────────┐   \n",
       "«q3_1: ┤ RY(2.5382) ├┤ RZ(2.9406) ├─■─┤ RY(1.6289) ├┤ RZ(4.6122) ├─■─\n",
       "«      ├────────────┤├────────────┤   ├───────────┬┘├────────────┤ │ \n",
       "«q3_2: ┤ RY(4.5789) ├┤ RZ(2.5972) ├─■─┤ RY(3.405) ├─┤ RZ(1.9172) ├─■─\n",
       "«      └────────────┘└────────────┘ │ └───────────┘ └────────────┘   \n",
       "«q3_3: ─────────────────────────────■────────────────────────────────\n",
       "«                                                                    "
      ]
     },
     "execution_count": 13,
     "metadata": {},
     "output_type": "execute_result"
    }
   ],
   "source": [
    "##This block generates circuit 12\n",
    "\n",
    "# -- DL\n",
    "def get_circuit_12(L):\n",
    "    a=2*pi*np.random.random(layers*(4*L-4))\n",
    "    q=qiskit.QuantumRegister(L)\n",
    "    circ=qiskit.QuantumCircuit(q)\n",
    "    for layer in range(layers):\n",
    "        ##adds first layer of rotations\n",
    "        for i in range(len(q)):\n",
    "            circ.ry(a[layer*(4*L-4)+i],q[i])\n",
    "            circ.rz(a[layer*(4*L-4)+i+L],q[i])\n",
    "        #adds first layer of C-Zs\n",
    "        for j in range(0,len(q),2):\n",
    "            circ.cz(q[j+1],q[j])\n",
    "        ##add second layer of rotations\n",
    "        for k in range(0,len(q)-2):\n",
    "            circ.ry(a[layer*(4*L-4)+2*L+k],q[k+1])\n",
    "            circ.rz(a[layer*(4*L-4)+2*L+L-2+k],q[k+1])\n",
    "        ##add second layer of C-Zs\n",
    "        for l in range(1,len(q)-1,2):\n",
    "            circ.cz(q[l+1],q[l])\n",
    "    return circ\n",
    "\n",
    "circ = get_circuit_12(L)\n",
    "circ.draw()"
   ]
  },
  {
   "cell_type": "code",
   "execution_count": 16,
   "metadata": {
    "scrolled": false
   },
   "outputs": [
    {
     "data": {
      "text/html": [
       "<pre style=\"word-wrap: normal;white-space: pre;background: #fff0;line-height: 1.1;font-family: &quot;Courier New&quot;,Courier,monospace\">       ┌────────────┐┌────────────┐┌────────────┐                            »\n",
       "q2_0: ─┤ RX(6.0887) ├┤ RZ(6.2474) ├┤ RX(4.0743) ├────────────────────────────»\n",
       "      ┌┴────────────┤├────────────┤└─────┬──────┘                            »\n",
       "q2_1: ┤ RX(0.59058) ├┤ RZ(4.2697) ├──────┼───────────────────────────■───────»\n",
       "      └┬────────────┤├────────────┤      │                     ┌─────┴──────┐»\n",
       "q2_2: ─┤ RX(2.3489) ├┤ RZ(1.2146) ├──────┼─────────────■───────┤ RX(5.4206) ├»\n",
       "       ├────────────┤├────────────┤      │       ┌─────┴──────┐└┬─────────┬─┘»\n",
       "q2_3: ─┤ RX(4.3803) ├┤ RZ(1.6591) ├──────■───────┤ RX(4.4671) ├─┤ RX(2.3) ├──»\n",
       "       └────────────┘└────────────┘              └────────────┘ └─────────┘  »\n",
       "«                     ┌────────────┐ ┌──────────┐ ┌────────────┐              »\n",
       "«q2_0: ───────■───────┤ RX(4.2234) ├─┤ RZ(2.15) ├─┤ RX(0.4064) ├──────────────»\n",
       "«       ┌─────┴──────┐├────────────┤┌┴──────────┴┐└─────┬──────┘              »\n",
       "«q2_1: ─┤ RX(4.6854) ├┤ RX(3.5596) ├┤ RZ(3.4098) ├──────┼─────────────────────»\n",
       "«      ┌┴────────────┤├────────────┤└────────────┘      │                     »\n",
       "«q2_2: ┤ RX(0.09427) ├┤ RZ(2.5313) ├────────────────────┼─────────────■───────»\n",
       "«      └┬────────────┤└────────────┘                    │       ┌─────┴──────┐»\n",
       "«q2_3: ─┤ RZ(5.4683) ├──────────────────────────────────■───────┤ RX(0.7807) ├»\n",
       "«       └────────────┘                                          └────────────┘»\n",
       "«                                  \n",
       "«q2_0: ────────────────────■───────\n",
       "«                    ┌─────┴──────┐\n",
       "«q2_1: ──────■───────┤ RX(6.0679) ├\n",
       "«      ┌─────┴──────┐└────────────┘\n",
       "«q2_2: ┤ RX(3.9521) ├──────────────\n",
       "«      └────────────┘              \n",
       "«q2_3: ────────────────────────────\n",
       "«                                  </pre>"
      ],
      "text/plain": [
       "       ┌────────────┐┌────────────┐┌────────────┐                            »\n",
       "q2_0: ─┤ RX(6.0887) ├┤ RZ(6.2474) ├┤ RX(4.0743) ├────────────────────────────»\n",
       "      ┌┴────────────┤├────────────┤└─────┬──────┘                            »\n",
       "q2_1: ┤ RX(0.59058) ├┤ RZ(4.2697) ├──────┼───────────────────────────■───────»\n",
       "      └┬────────────┤├────────────┤      │                     ┌─────┴──────┐»\n",
       "q2_2: ─┤ RX(2.3489) ├┤ RZ(1.2146) ├──────┼─────────────■───────┤ RX(5.4206) ├»\n",
       "       ├────────────┤├────────────┤      │       ┌─────┴──────┐└┬─────────┬─┘»\n",
       "q2_3: ─┤ RX(4.3803) ├┤ RZ(1.6591) ├──────■───────┤ RX(4.4671) ├─┤ RX(2.3) ├──»\n",
       "       └────────────┘└────────────┘              └────────────┘ └─────────┘  »\n",
       "«                     ┌────────────┐ ┌──────────┐ ┌────────────┐              »\n",
       "«q2_0: ───────■───────┤ RX(4.2234) ├─┤ RZ(2.15) ├─┤ RX(0.4064) ├──────────────»\n",
       "«       ┌─────┴──────┐├────────────┤┌┴──────────┴┐└─────┬──────┘              »\n",
       "«q2_1: ─┤ RX(4.6854) ├┤ RX(3.5596) ├┤ RZ(3.4098) ├──────┼─────────────────────»\n",
       "«      ┌┴────────────┤├────────────┤└────────────┘      │                     »\n",
       "«q2_2: ┤ RX(0.09427) ├┤ RZ(2.5313) ├────────────────────┼─────────────■───────»\n",
       "«      └┬────────────┤└────────────┘                    │       ┌─────┴──────┐»\n",
       "«q2_3: ─┤ RZ(5.4683) ├──────────────────────────────────■───────┤ RX(0.7807) ├»\n",
       "«       └────────────┘                                          └────────────┘»\n",
       "«                                  \n",
       "«q2_0: ────────────────────■───────\n",
       "«                    ┌─────┴──────┐\n",
       "«q2_1: ──────■───────┤ RX(6.0679) ├\n",
       "«      ┌─────┴──────┐└────────────┘\n",
       "«q2_2: ┤ RX(3.9521) ├──────────────\n",
       "«      └────────────┘              \n",
       "«q2_3: ────────────────────────────\n",
       "«                                  "
      ]
     },
     "execution_count": 16,
     "metadata": {},
     "output_type": "execute_result"
    }
   ],
   "source": [
    "##This block generates circuit 19\n",
    "\n",
    "# -- DL\n",
    "def get_circuit_19(L, layers):\n",
    "    a=2*pi*np.random.random(3*L*layers)\n",
    "    q = qiskit.QuantumRegister(L)\n",
    "    circ = qiskit.QuantumCircuit(q)\n",
    "    for layer in range(layers):\n",
    "    ##adds first layer of rotations\n",
    "        for i in range(len(q)):\n",
    "            circ.rx(a[layer*(3*L)+i],q[i])\n",
    "            circ.rz(a[layer*(3*L)+i+L],q[i])\n",
    "        #adds layer of C-Rx\n",
    "        # crx=CRXGate(np.pi, label=None, ctrl_state=None)\n",
    "        # -- DL\n",
    "        crx=CRXGate(np.pi)\n",
    "\n",
    "        for j in reversed(range(len(q))):\n",
    "            circ.crx(a[layer*(3*L)+2*L+j],q[j],q[(j+1)%len(q)])\n",
    "    return circ\n",
    "\n",
    "circ = get_circuit_19(L, layers)\n",
    "circ.draw()"
   ]
  },
  {
   "cell_type": "code",
   "execution_count": null,
   "metadata": {},
   "outputs": [],
   "source": []
  },
  {
   "cell_type": "code",
   "execution_count": null,
   "metadata": {},
   "outputs": [],
   "source": []
  },
  {
   "cell_type": "code",
   "execution_count": 35,
   "metadata": {},
   "outputs": [],
   "source": [
    "import qtensor as qt\n",
    "import qtree\n",
    "from cartesian_explorer import Explorer\n",
    "\n",
    "ex = Explorer()"
   ]
  },
  {
   "cell_type": "code",
   "execution_count": 72,
   "metadata": {},
   "outputs": [],
   "source": [
    "@ex.provider(cache=True)\n",
    "def qiskit_circ_tw(circ_qasm, ordering_algo='greedy'):\n",
    "    \"\"\"\n",
    "    Returns treewidth of a line graph obtained from \n",
    "    qiskit qasm circuit\n",
    "    \n",
    "    Args:\n",
    "        qs_circ_qasm (str): qasm file\n",
    "    \"\"\"\n",
    "    if ordering_algo=='greedy':\n",
    "        opt = qt.optimisation.Optimizer.OrderingOptimizer()\n",
    "    elif 'rgreedy' in ordering_algo:\n",
    "        opt = qt.optimisation.RGreedy(temp=0.02, repeats=10)\n",
    "    else:\n",
    "        raise ValueError('Ordering algorithm not supported')\n",
    "        \n",
    "    qiskit_circuit = qiskit.QuantumCircuit.from_qasm_str(circ_qasm)\n",
    "    tn = qt.optimisation.TensorNet.QtreeTensorNet.from_qiskit_circuit(qiskit_circuit)\n",
    "    opt.optimize(tn)\n",
    "    return opt.treewidth\n",
    "    \n",
    "    \n",
    "@ex.provider\n",
    "def circ_qasm(L, circ_type):\n",
    "    \"\"\" Generate autoencoder circuit of a particular type.\n",
    "    \n",
    "    I have no idea what a type is -- DL\n",
    "    \n",
    "    Args:\n",
    "        L: size of the circuit\n",
    "        circ_type (str): type of the circuict\n",
    "        \n",
    "    Returns:\n",
    "        str: qasm of qiskit circuit\n",
    "    \"\"\"\n",
    "    circuit = {\n",
    "        '19':get_circuit_19,\n",
    "        '11':get_circuit_11,\n",
    "        '12':get_circuit_12\n",
    "           }[circ_type](L)\n",
    "    return circuit.qasm()"
   ]
  },
  {
   "cell_type": "code",
   "execution_count": 73,
   "metadata": {},
   "outputs": [
    {
     "data": {
      "text/plain": [
       "2"
      ]
     },
     "execution_count": 73,
     "metadata": {},
     "output_type": "execute_result"
    }
   ],
   "source": [
    "qiskit_circ_tw(circ.qasm())"
   ]
  },
  {
   "cell_type": "code",
   "execution_count": 74,
   "metadata": {
    "scrolled": false
   },
   "outputs": [
    {
     "data": {
      "application/vnd.jupyter.widget-view+json": {
       "model_id": "745a283a38594f63bbea58478fc08a0f",
       "version_major": 2,
       "version_minor": 0
      },
      "text/plain": [
       "HBox(children=(FloatProgress(value=0.0, max=135.0), HTML(value='')))"
      ]
     },
     "metadata": {},
     "output_type": "display_data"
    },
    {
     "name": "stdout",
     "output_type": "stream",
     "text": [
      "\n"
     ]
    },
    {
     "data": {
      "image/png": "[encoded data removed]",
      "text/plain": [
       "<Figure size 600x400 with 1 Axes>"
      ]
     },
     "metadata": {
      "needs_background": "light"
     },
     "output_type": "display_data"
    }
   ],
   "source": [
    "fig = ex.plot_variables('qiskit_circ_tw', circ_type=['11', '12', '19'], L=range(10, 100, 2))"
   ]
  }
 ],
 "metadata": {
  "kernelspec": {
   "display_name": "Python 3",
   "language": "python",
   "name": "python3"
  },
  "language_info": {
   "codemirror_mode": {
    "name": "ipython",
    "version": 3
   },
   "file_extension": ".py",
   "mimetype": "text/x-python",
   "name": "python",
   "nbconvert_exporter": "python",
   "pygments_lexer": "ipython3",
   "version": "3.8.2"
  },
  "toc": {
   "base_numbering": 1,
   "nav_menu": {},
   "number_sections": true,
   "sideBar": true,
   "skip_h1_title": false,
   "title_cell": "Table of Contents",
   "title_sidebar": "Contents",
   "toc_cell": false,
   "toc_position": {},
   "toc_section_display": true,
   "toc_window_display": false
  }
 },
 "nbformat": 4,
 "nbformat_minor": 2
}
