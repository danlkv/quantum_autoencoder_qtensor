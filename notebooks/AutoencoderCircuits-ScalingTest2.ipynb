{
 "cells": [
  {
   "cell_type": "code",
   "execution_count": 12,
   "metadata": {},
   "outputs": [],
   "source": [
    "###This code generates autoencoders for quantum phase transtions. Circuits were taken from arXiv:1905.10876 \n",
    "###Code written by Douglas M.\n",
    "\n",
    "from qiskit import *"
   ]
  },
  {
   "cell_type": "code",
   "execution_count": 13,
   "metadata": {},
   "outputs": [],
   "source": [
    "user='douglas'"
   ]
  },
  {
   "cell_type": "code",
   "execution_count": 14,
   "metadata": {},
   "outputs": [
    {
     "data": {
      "text/plain": [
       "{'qiskit-terra': '0.16.0',\n",
       " 'qiskit-aer': '0.7.0',\n",
       " 'qiskit-ignis': '0.5.0',\n",
       " 'qiskit-ibmq-provider': '0.11.0',\n",
       " 'qiskit-aqua': '0.8.0',\n",
       " 'qiskit': '0.23.0'}"
      ]
     },
     "execution_count": 14,
     "metadata": {},
     "output_type": "execute_result"
    }
   ],
   "source": [
    "qiskit.__qiskit_version__"
   ]
  },
  {
   "cell_type": "code",
   "execution_count": 15,
   "metadata": {},
   "outputs": [
    {
     "data": {
      "text/plain": [
       "{'qiskit-terra': '0.16.0',\n",
       " 'qiskit-aer': '0.7.0',\n",
       " 'qiskit-ignis': '0.5.0',\n",
       " 'qiskit-ibmq-provider': '0.11.0',\n",
       " 'qiskit-aqua': '0.8.0',\n",
       " 'qiskit': '0.23.0'}"
      ]
     },
     "execution_count": 15,
     "metadata": {},
     "output_type": "execute_result"
    }
   ],
   "source": [
    "qiskit.__qiskit_version__"
   ]
  },
  {
   "cell_type": "code",
   "execution_count": 16,
   "metadata": {},
   "outputs": [],
   "source": [
    "import numpy as np\n",
    "from qiskit import circuit\n",
    "from qiskit.quantum_info import Operator\n",
    "if user=='douglas':\n",
    "    from qiskit.circuit.library import CRXGate\n",
    "\n",
    "# -- DL\n",
    "if user=='dan':\n",
    "    from qiskit.extensions.standard import CrxGate as CRXGate\n",
    "pi = np.pi\n",
    "%matplotlib inline"
   ]
  },
  {
   "cell_type": "code",
   "execution_count": 17,
   "metadata": {},
   "outputs": [
    {
     "name": "stdout",
     "output_type": "stream",
     "text": [
      "The autoreload extension is already loaded. To reload it, use:\n",
      "  %reload_ext autoreload\n"
     ]
    }
   ],
   "source": [
    "%load_ext autoreload\n",
    "%autoreload 2"
   ]
  },
  {
   "cell_type": "code",
   "execution_count": 30,
   "metadata": {},
   "outputs": [],
   "source": [
    "L=4 ##Lattice size. Must be even\n",
    "layers=2"
   ]
  },
  {
   "cell_type": "code",
   "execution_count": 25,
   "metadata": {},
   "outputs": [
    {
     "name": "stdout",
     "output_type": "stream",
     "text": [
      "8\n",
      "9\n",
      "20\n",
      "21\n"
     ]
    },
    {
     "data": {
      "text/html": [
       "<pre style=\"word-wrap: normal;white-space: pre;background: #fff0;line-height: 1.1;font-family: &quot;Courier New&quot;,Courier,monospace\">      ┌────────────┐ ┌────────────┐┌───┐ ┌────────────┐┌─────────────┐     »\n",
       "q8_0: ┤ RY(3.4985) ├─┤ RZ(2.3914) ├┤ X ├─┤ RY(5.5074) ├┤ RZ(0.61051) ├─────»\n",
       "      ├────────────┤┌┴────────────┤└─┬─┘ ├────────────┤├─────────────┤┌───┐»\n",
       "q8_1: ┤ RY(6.2535) ├┤ RZ(0.38993) ├──■───┤ RY(5.8437) ├┤ RZ(0.45465) ├┤ X ├»\n",
       "      ├───────────┬┘└┬───────────┬┘┌───┐ ├────────────┤└┬────────────┤└─┬─┘»\n",
       "q8_2: ┤ RY(1.596) ├──┤ RZ(4.659) ├─┤ X ├─┤ RY(5.6231) ├─┤ RZ(6.2363) ├──■──»\n",
       "      ├───────────┴┐ ├───────────┴┐└─┬─┘┌┴────────────┤ ├───────────┬┘     »\n",
       "q8_3: ┤ RY(1.7723) ├─┤ RZ(2.3927) ├──■──┤ RY(0.12379) ├─┤ RZ(4.664) ├──────»\n",
       "      └────────────┘ └────────────┘     └─────────────┘ └───────────┘      »\n",
       "«                                  ┌───┐                                  \n",
       "«q8_0: ────────────────────────────┤ X ├──────────────────────────────────\n",
       "«      ┌────────────┐┌────────────┐└─┬─┘┌─────────────┐┌────────────┐┌───┐\n",
       "«q8_1: ┤ RY(2.4762) ├┤ RZ(3.6685) ├──■──┤ RY(0.89854) ├┤ RZ(5.0174) ├┤ X ├\n",
       "«      ├────────────┤├────────────┤┌───┐└┬────────────┤└┬──────────┬┘└─┬─┘\n",
       "«q8_2: ┤ RY(2.9673) ├┤ RZ(3.9058) ├┤ X ├─┤ RY(4.2515) ├─┤ RZ(6.06) ├───■──\n",
       "«      └────────────┘└────────────┘└─┬─┘ └────────────┘ └──────────┘      \n",
       "«q8_3: ──────────────────────────────■────────────────────────────────────\n",
       "«                                                                         </pre>"
      ],
      "text/plain": [
       "      ┌────────────┐ ┌────────────┐┌───┐ ┌────────────┐┌─────────────┐     »\n",
       "q8_0: ┤ RY(3.4985) ├─┤ RZ(2.3914) ├┤ X ├─┤ RY(5.5074) ├┤ RZ(0.61051) ├─────»\n",
       "      ├────────────┤┌┴────────────┤└─┬─┘ ├────────────┤├─────────────┤┌───┐»\n",
       "q8_1: ┤ RY(6.2535) ├┤ RZ(0.38993) ├──■───┤ RY(5.8437) ├┤ RZ(0.45465) ├┤ X ├»\n",
       "      ├───────────┬┘└┬───────────┬┘┌───┐ ├────────────┤└┬────────────┤└─┬─┘»\n",
       "q8_2: ┤ RY(1.596) ├──┤ RZ(4.659) ├─┤ X ├─┤ RY(5.6231) ├─┤ RZ(6.2363) ├──■──»\n",
       "      ├───────────┴┐ ├───────────┴┐└─┬─┘┌┴────────────┤ ├───────────┬┘     »\n",
       "q8_3: ┤ RY(1.7723) ├─┤ RZ(2.3927) ├──■──┤ RY(0.12379) ├─┤ RZ(4.664) ├──────»\n",
       "      └────────────┘ └────────────┘     └─────────────┘ └───────────┘      »\n",
       "«                                  ┌───┐                                  \n",
       "«q8_0: ────────────────────────────┤ X ├──────────────────────────────────\n",
       "«      ┌────────────┐┌────────────┐└─┬─┘┌─────────────┐┌────────────┐┌───┐\n",
       "«q8_1: ┤ RY(2.4762) ├┤ RZ(3.6685) ├──■──┤ RY(0.89854) ├┤ RZ(5.0174) ├┤ X ├\n",
       "«      ├────────────┤├────────────┤┌───┐└┬────────────┤└┬──────────┬┘└─┬─┘\n",
       "«q8_2: ┤ RY(2.9673) ├┤ RZ(3.9058) ├┤ X ├─┤ RY(4.2515) ├─┤ RZ(6.06) ├───■──\n",
       "«      └────────────┘└────────────┘└─┬─┘ └────────────┘ └──────────┘      \n",
       "«q8_3: ──────────────────────────────■────────────────────────────────────\n",
       "«                                                                         "
      ]
     },
     "execution_count": 25,
     "metadata": {},
     "output_type": "execute_result"
    }
   ],
   "source": [
    "##This block generates circuit 11\n",
    "\n",
    "# -- DL\n",
    "def get_circuit_11(L):\n",
    "    a=2*pi*np.random.random(layers*(4*L-4))\n",
    "    q=QuantumRegister(L)\n",
    "    circ=QuantumCircuit(q)\n",
    "    for layer in range(layers):\n",
    "        for i in range(len(q)):\n",
    "            ##adds first layer of rotations\n",
    "            circ.ry(a[layer*(4*L-4)+i],q[i])\n",
    "            circ.rz(a[layer*(4*L-4)+i+L],q[i])\n",
    "        #adds first layer of CNOTs\n",
    "        for j in range(0,len(q),2):\n",
    "            circ.cx(q[j+1],q[j])\n",
    "        ##add second layer of rotations\n",
    "        for k in range(0,len(q)-2):\n",
    "            circ.ry(a[layer*(4*L-4)+2*L+k],q[k+1])\n",
    "            circ.rz(a[layer*(4*L-4)+2*L+L-2+k],q[k+1])\n",
    "            print(layer*(4*L-4)+2*L+k)\n",
    "        ##add second layer of CNOTs\n",
    "        for l in range(1,len(q)-1,2):\n",
    "            circ.cx(q[l+1],q[l])\n",
    "\n",
    "    return circ\n",
    "\n",
    "circ = get_circuit_11(L)\n",
    "circ.draw()"
   ]
  },
  {
   "cell_type": "code",
   "execution_count": 26,
   "metadata": {},
   "outputs": [
    {
     "data": {
      "text/html": [
       "<pre style=\"word-wrap: normal;white-space: pre;background: #fff0;line-height: 1.1;font-family: &quot;Courier New&quot;,Courier,monospace\">      ┌────────────┐┌────────────┐   ┌────────────┐┌─────────────┐   »\n",
       "q9_0: ┤ RY(1.6277) ├┤ RZ(2.7122) ├─■─┤ RY(5.0214) ├┤ RZ(0.62387) ├───»\n",
       "      ├────────────┤├────────────┤ │ ├────────────┤└┬───────────┬┘   »\n",
       "q9_1: ┤ RY(4.0746) ├┤ RZ(1.5577) ├─■─┤ RY(4.8648) ├─┤ RZ(1.436) ├──■─»\n",
       "      ├────────────┤├────────────┤   ├────────────┤┌┴───────────┴┐ │ »\n",
       "q9_2: ┤ RY(2.2127) ├┤ RZ(5.0285) ├─■─┤ RY(1.8149) ├┤ RZ(0.61414) ├─■─»\n",
       "      ├────────────┤├────────────┤ │ ├────────────┤└┬────────────┤   »\n",
       "q9_3: ┤ RY(5.4593) ├┤ RZ(1.2743) ├─■─┤ RY(5.8782) ├─┤ RZ(2.9796) ├───»\n",
       "      └────────────┘└────────────┘   └────────────┘ └────────────┘   »\n",
       "«                                                                    \n",
       "«q9_0: ─────────────────────────────■────────────────────────────────\n",
       "«      ┌────────────┐┌────────────┐ │ ┌────────────┐┌────────────┐   \n",
       "«q9_1: ┤ RY(1.2256) ├┤ RZ(1.6725) ├─■─┤ RY(6.1945) ├┤ RZ(2.6201) ├─■─\n",
       "«      ├────────────┤├────────────┤   ├────────────┤├────────────┤ │ \n",
       "«q9_2: ┤ RY(3.3038) ├┤ RZ(2.3824) ├─■─┤ RY(2.0581) ├┤ RZ(3.5949) ├─■─\n",
       "«      └────────────┘└────────────┘ │ └────────────┘└────────────┘   \n",
       "«q9_3: ─────────────────────────────■────────────────────────────────\n",
       "«                                                                    </pre>"
      ],
      "text/plain": [
       "      ┌────────────┐┌────────────┐   ┌────────────┐┌─────────────┐   »\n",
       "q9_0: ┤ RY(1.6277) ├┤ RZ(2.7122) ├─■─┤ RY(5.0214) ├┤ RZ(0.62387) ├───»\n",
       "      ├────────────┤├────────────┤ │ ├────────────┤└┬───────────┬┘   »\n",
       "q9_1: ┤ RY(4.0746) ├┤ RZ(1.5577) ├─■─┤ RY(4.8648) ├─┤ RZ(1.436) ├──■─»\n",
       "      ├────────────┤├────────────┤   ├────────────┤┌┴───────────┴┐ │ »\n",
       "q9_2: ┤ RY(2.2127) ├┤ RZ(5.0285) ├─■─┤ RY(1.8149) ├┤ RZ(0.61414) ├─■─»\n",
       "      ├────────────┤├────────────┤ │ ├────────────┤└┬────────────┤   »\n",
       "q9_3: ┤ RY(5.4593) ├┤ RZ(1.2743) ├─■─┤ RY(5.8782) ├─┤ RZ(2.9796) ├───»\n",
       "      └────────────┘└────────────┘   └────────────┘ └────────────┘   »\n",
       "«                                                                    \n",
       "«q9_0: ─────────────────────────────■────────────────────────────────\n",
       "«      ┌────────────┐┌────────────┐ │ ┌────────────┐┌────────────┐   \n",
       "«q9_1: ┤ RY(1.2256) ├┤ RZ(1.6725) ├─■─┤ RY(6.1945) ├┤ RZ(2.6201) ├─■─\n",
       "«      ├────────────┤├────────────┤   ├────────────┤├────────────┤ │ \n",
       "«q9_2: ┤ RY(3.3038) ├┤ RZ(2.3824) ├─■─┤ RY(2.0581) ├┤ RZ(3.5949) ├─■─\n",
       "«      └────────────┘└────────────┘ │ └────────────┘└────────────┘   \n",
       "«q9_3: ─────────────────────────────■────────────────────────────────\n",
       "«                                                                    "
      ]
     },
     "execution_count": 26,
     "metadata": {},
     "output_type": "execute_result"
    }
   ],
   "source": [
    "##This block generates circuit 12\n",
    "\n",
    "# -- DL\n",
    "def get_circuit_12(L):\n",
    "    a=2*pi*np.random.random(layers*(4*L-4))\n",
    "    q=QuantumRegister(L)\n",
    "    circ=QuantumCircuit(q)\n",
    "    for layer in range(layers):\n",
    "        ##adds first layer of rotations\n",
    "        for i in range(len(q)):\n",
    "            circ.ry(a[layer*(4*L-4)+i],q[i])\n",
    "            circ.rz(a[layer*(4*L-4)+i+L],q[i])\n",
    "        #adds first layer of C-Zs\n",
    "        for j in range(0,len(q),2):\n",
    "            circ.cz(q[j+1],q[j])\n",
    "        ##add second layer of rotations\n",
    "        for k in range(0,len(q)-2):\n",
    "            circ.ry(a[layer*(4*L-4)+2*L+k],q[k+1])\n",
    "            circ.rz(a[layer*(4*L-4)+2*L+L-2+k],q[k+1])\n",
    "        ##add second layer of C-Zs\n",
    "        for l in range(1,len(q)-1,2):\n",
    "            circ.cz(q[l+1],q[l])\n",
    "    return circ\n",
    "\n",
    "circ = get_circuit_12(L)\n",
    "circ.draw()"
   ]
  },
  {
   "cell_type": "code",
   "execution_count": 31,
   "metadata": {
    "scrolled": false
   },
   "outputs": [
    {
     "ename": "IndexError",
     "evalue": "index 12 is out of bounds for axis 0 with size 12",
     "output_type": "error",
     "traceback": [
      "\u001b[1;31m---------------------------------------------------------------------------\u001b[0m",
      "\u001b[1;31mIndexError\u001b[0m                                Traceback (most recent call last)",
      "\u001b[1;32m<ipython-input-31-eafd485b78bd>\u001b[0m in \u001b[0;36m<module>\u001b[1;34m\u001b[0m\n\u001b[0;32m     20\u001b[0m     \u001b[1;32mreturn\u001b[0m \u001b[0mcirc\u001b[0m\u001b[1;33m\u001b[0m\u001b[1;33m\u001b[0m\u001b[0m\n\u001b[0;32m     21\u001b[0m \u001b[1;33m\u001b[0m\u001b[0m\n\u001b[1;32m---> 22\u001b[1;33m \u001b[0mcirc\u001b[0m \u001b[1;33m=\u001b[0m \u001b[0mget_circuit_19\u001b[0m\u001b[1;33m(\u001b[0m\u001b[0mL\u001b[0m\u001b[1;33m)\u001b[0m\u001b[1;33m\u001b[0m\u001b[1;33m\u001b[0m\u001b[0m\n\u001b[0m\u001b[0;32m     23\u001b[0m \u001b[0mcirc\u001b[0m\u001b[1;33m.\u001b[0m\u001b[0mdraw\u001b[0m\u001b[1;33m(\u001b[0m\u001b[1;33m)\u001b[0m\u001b[1;33m\u001b[0m\u001b[1;33m\u001b[0m\u001b[0m\n",
      "\u001b[1;32m<ipython-input-31-eafd485b78bd>\u001b[0m in \u001b[0;36mget_circuit_19\u001b[1;34m(L)\u001b[0m\n\u001b[0;32m      9\u001b[0m     \u001b[1;31m##adds first layer of rotations\u001b[0m\u001b[1;33m\u001b[0m\u001b[1;33m\u001b[0m\u001b[1;33m\u001b[0m\u001b[0m\n\u001b[0;32m     10\u001b[0m         \u001b[1;32mfor\u001b[0m \u001b[0mi\u001b[0m \u001b[1;32min\u001b[0m \u001b[0mrange\u001b[0m\u001b[1;33m(\u001b[0m\u001b[0mlen\u001b[0m\u001b[1;33m(\u001b[0m\u001b[0mq\u001b[0m\u001b[1;33m)\u001b[0m\u001b[1;33m)\u001b[0m\u001b[1;33m:\u001b[0m\u001b[1;33m\u001b[0m\u001b[1;33m\u001b[0m\u001b[0m\n\u001b[1;32m---> 11\u001b[1;33m             \u001b[0mcirc\u001b[0m\u001b[1;33m.\u001b[0m\u001b[0mrx\u001b[0m\u001b[1;33m(\u001b[0m\u001b[0ma\u001b[0m\u001b[1;33m[\u001b[0m\u001b[0mlayer\u001b[0m\u001b[1;33m*\u001b[0m\u001b[1;33m(\u001b[0m\u001b[1;36m3\u001b[0m\u001b[1;33m*\u001b[0m\u001b[0mL\u001b[0m\u001b[1;33m)\u001b[0m\u001b[1;33m+\u001b[0m\u001b[0mi\u001b[0m\u001b[1;33m]\u001b[0m\u001b[1;33m,\u001b[0m\u001b[0mq\u001b[0m\u001b[1;33m[\u001b[0m\u001b[0mi\u001b[0m\u001b[1;33m]\u001b[0m\u001b[1;33m)\u001b[0m\u001b[1;33m\u001b[0m\u001b[1;33m\u001b[0m\u001b[0m\n\u001b[0m\u001b[0;32m     12\u001b[0m             \u001b[0mcirc\u001b[0m\u001b[1;33m.\u001b[0m\u001b[0mrz\u001b[0m\u001b[1;33m(\u001b[0m\u001b[0ma\u001b[0m\u001b[1;33m[\u001b[0m\u001b[0mlayer\u001b[0m\u001b[1;33m*\u001b[0m\u001b[1;33m(\u001b[0m\u001b[1;36m3\u001b[0m\u001b[1;33m*\u001b[0m\u001b[0mL\u001b[0m\u001b[1;33m)\u001b[0m\u001b[1;33m+\u001b[0m\u001b[0mi\u001b[0m\u001b[1;33m+\u001b[0m\u001b[0mL\u001b[0m\u001b[1;33m]\u001b[0m\u001b[1;33m,\u001b[0m\u001b[0mq\u001b[0m\u001b[1;33m[\u001b[0m\u001b[0mi\u001b[0m\u001b[1;33m]\u001b[0m\u001b[1;33m)\u001b[0m\u001b[1;33m\u001b[0m\u001b[1;33m\u001b[0m\u001b[0m\n\u001b[0;32m     13\u001b[0m         \u001b[1;31m#adds layer of C-Rx\u001b[0m\u001b[1;33m\u001b[0m\u001b[1;33m\u001b[0m\u001b[1;33m\u001b[0m\u001b[0m\n",
      "\u001b[1;31mIndexError\u001b[0m: index 12 is out of bounds for axis 0 with size 12"
     ]
    }
   ],
   "source": [
    "##This block generates circuit 19\n",
    "\n",
    "# -- DL\n",
    "def get_circuit_19(L):\n",
    "    a=2*pi*np.random.random(3*L)\n",
    "    q=QuantumRegister(L)\n",
    "    circ=QuantumCircuit(q)\n",
    "    for layer in range(layers):\n",
    "    ##adds first layer of rotations\n",
    "        for i in range(len(q)):\n",
    "            circ.rx(a[layer*(3*L)+i],q[i])\n",
    "            circ.rz(a[layer*(3*L)+i+L],q[i])\n",
    "        #adds layer of C-Rx\n",
    "        # crx=CRXGate(np.pi, label=None, ctrl_state=None)\n",
    "        # -- DL\n",
    "        crx=CRXGate(np.pi)\n",
    "\n",
    "        for j in reversed(range(len(q))):\n",
    "            circ.crx(a[layer*(3*L)+2*L+j],q[j],q[(j+1)%len(q)])\n",
    "    return circ\n",
    "\n",
    "circ = get_circuit_19(L)\n",
    "circ.draw()"
   ]
  },
  {
   "cell_type": "code",
   "execution_count": null,
   "metadata": {},
   "outputs": [],
   "source": []
  },
  {
   "cell_type": "code",
   "execution_count": null,
   "metadata": {},
   "outputs": [],
   "source": []
  },
  {
   "cell_type": "code",
   "execution_count": 35,
   "metadata": {},
   "outputs": [],
   "source": [
    "import qtensor as qt\n",
    "import qtree\n",
    "from cartesian_explorer import Explorer\n",
    "\n",
    "ex = Explorer()"
   ]
  },
  {
   "cell_type": "code",
   "execution_count": 72,
   "metadata": {},
   "outputs": [],
   "source": [
    "@ex.provider(cache=True)\n",
    "def qiskit_circ_tw(circ_qasm, ordering_algo='greedy'):\n",
    "    \"\"\"\n",
    "    Returns treewidth of a line graph obtained from \n",
    "    qiskit qasm circuit\n",
    "    \n",
    "    Args:\n",
    "        qs_circ_qasm (str): qasm file\n",
    "    \"\"\"\n",
    "    if ordering_algo=='greedy':\n",
    "        opt = qt.optimisation.Optimizer.OrderingOptimizer()\n",
    "    elif 'rgreedy' in ordering_algo:\n",
    "        opt = qt.optimisation.RGreedy(temp=0.02, repeats=10)\n",
    "    else:\n",
    "        raise ValueError('Ordering algorithm not supported')\n",
    "        \n",
    "    qiskit_circuit = qiskit.QuantumCircuit.from_qasm_str(circ_qasm)\n",
    "    tn = qt.optimisation.TensorNet.QtreeTensorNet.from_qiskit_circuit(qiskit_circuit)\n",
    "    opt.optimize(tn)\n",
    "    return opt.treewidth\n",
    "    \n",
    "    \n",
    "@ex.provider\n",
    "def circ_qasm(L, circ_type):\n",
    "    \"\"\" Generate autoencoder circuit of a particular type.\n",
    "    \n",
    "    I have no idea what a type is -- DL\n",
    "    \n",
    "    Args:\n",
    "        L: size of the circuit\n",
    "        circ_type (str): type of the circuict\n",
    "        \n",
    "    Returns:\n",
    "        str: qasm of qiskit circuit\n",
    "    \"\"\"\n",
    "    circuit = {\n",
    "        '19':get_circuit_19,\n",
    "        '11':get_circuit_11,\n",
    "        '12':get_circuit_12\n",
    "           }[circ_type](L)\n",
    "    return circuit.qasm()"
   ]
  },
  {
   "cell_type": "code",
   "execution_count": 73,
   "metadata": {},
   "outputs": [
    {
     "data": {
      "text/plain": [
       "2"
      ]
     },
     "execution_count": 73,
     "metadata": {},
     "output_type": "execute_result"
    }
   ],
   "source": [
    "qiskit_circ_tw(circ.qasm())"
   ]
  },
  {
   "cell_type": "code",
   "execution_count": 74,
   "metadata": {
    "scrolled": false
   },
   "outputs": [
    {
     "data": {
      "application/vnd.jupyter.widget-view+json": {
       "model_id": "745a283a38594f63bbea58478fc08a0f",
       "version_major": 2,
       "version_minor": 0
      },
      "text/plain": [
       "HBox(children=(FloatProgress(value=0.0, max=135.0), HTML(value='')))"
      ]
     },
     "metadata": {},
     "output_type": "display_data"
    },
    {
     "name": "stdout",
     "output_type": "stream",
     "text": [
      "\n"
     ]
    },
    {
     "data": {
      "image/png": "[encoded data removed]",
      "text/plain": [
       "<Figure size 600x400 with 1 Axes>"
      ]
     },
     "metadata": {
      "needs_background": "light"
     },
     "output_type": "display_data"
    }
   ],
   "source": [
    "fig = ex.plot_variables('qiskit_circ_tw', circ_type=['11', '12', '19'], L=range(10, 100, 2))"
   ]
  }
 ],
 "metadata": {
  "kernelspec": {
   "display_name": "Python 3",
   "language": "python",
   "name": "python3"
  },
  "language_info": {
   "codemirror_mode": {
    "name": "ipython",
    "version": 3
   },
   "file_extension": ".py",
   "mimetype": "text/x-python",
   "name": "python",
   "nbconvert_exporter": "python",
   "pygments_lexer": "ipython3",
   "version": "3.7.4"
  },
  "toc": {
   "base_numbering": 1,
   "nav_menu": {},
   "number_sections": true,
   "sideBar": true,
   "skip_h1_title": false,
   "title_cell": "Table of Contents",
   "title_sidebar": "Contents",
   "toc_cell": false,
   "toc_position": {},
   "toc_section_display": true,
   "toc_window_display": false
  }
 },
 "nbformat": 4,
 "nbformat_minor": 2
}
